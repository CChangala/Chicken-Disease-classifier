{
 "cells": [
  {
   "cell_type": "code",
   "execution_count": 3,
   "metadata": {},
   "outputs": [],
   "source": [
    "import os"
   ]
  },
  {
   "cell_type": "code",
   "execution_count": 4,
   "metadata": {},
   "outputs": [
    {
     "data": {
      "text/plain": [
       "'/Users/chaitanyachangala/Desktop/Chicken-Disease-classifier/research'"
      ]
     },
     "execution_count": 4,
     "metadata": {},
     "output_type": "execute_result"
    }
   ],
   "source": [
    "%pwd"
   ]
  },
  {
   "cell_type": "code",
   "execution_count": 6,
   "metadata": {},
   "outputs": [
    {
     "data": {
      "text/plain": [
       "'/Users/chaitanyachangala/Desktop/Chicken-Disease-classifier'"
      ]
     },
     "execution_count": 6,
     "metadata": {},
     "output_type": "execute_result"
    }
   ],
   "source": [
    "os.chdir('/Users/chaitanyachangala/Desktop/Chicken-Disease-classifier/')\n",
    "%pwd"
   ]
  },
  {
   "cell_type": "code",
   "execution_count": 7,
   "metadata": {},
   "outputs": [],
   "source": [
    "from dataclasses import dataclass\n",
    "from pathlib import Path\n",
    "\n",
    "@dataclass(frozen=True)\n",
    "class TrainingConfig:\n",
    "    root_dir: Path\n",
    "    trained_model_path: Path\n",
    "    updated_base_model_path: Path\n",
    "    training_data: Path\n",
    "    params_epochs: int\n",
    "    params_batch_size: int\n",
    "    params_is_augmentation: bool\n",
    "    params_image_size: list\n",
    "\n",
    "\n",
    "\n",
    "@dataclass(frozen=True)\n",
    "class PrepareCallbacksConfig:\n",
    "    root_dir: Path\n",
    "    tensorboard_root_log_dir: Path\n",
    "    checkpoint_model_filepath: Path"
   ]
  },
  {
   "cell_type": "code",
   "execution_count": 9,
   "metadata": {},
   "outputs": [],
   "source": [
    "from src.cnn_classifier.utils.common import read_yaml, create_directories\n",
    "from src.cnn_classifier.constants import *\n",
    "import tensorflow as tf"
   ]
  },
  {
   "cell_type": "code",
   "execution_count": 11,
   "metadata": {},
   "outputs": [],
   "source": [
    "class ConfigurationManager:\n",
    "    def __init__(\n",
    "        self, \n",
    "        config_filepath = CONFIG_FILE_PATH,\n",
    "        params_filepath = PARAMS_FILE_PATH):\n",
    "        self.config = read_yaml(config_filepath)\n",
    "        self.params = read_yaml(params_filepath)\n",
    "        create_directories([self.config.artifacts_root])\n",
    "\n",
    "\n",
    "    \n",
    "    def get_prepare_callback_config(self) -> PrepareCallbacksConfig:\n",
    "        config = self.config.prepare_callbacks\n",
    "        model_ckpt_dir = os.path.dirname(config.checkpoint_model_filepath)\n",
    "        create_directories([\n",
    "            Path(model_ckpt_dir),\n",
    "            Path(config.tensorboard_root_log_dir)\n",
    "        ])\n",
    "\n",
    "        prepare_callback_config = PrepareCallbacksConfig(\n",
    "            root_dir=Path(config.root_dir),\n",
    "            tensorboard_root_log_dir=Path(config.tensorboard_root_log_dir),\n",
    "            checkpoint_model_filepath=Path(config.checkpoint_model_filepath)\n",
    "        )\n",
    "\n",
    "        return prepare_callback_config\n",
    "    \n",
    "\n",
    "\n",
    "\n",
    "\n",
    "    def get_training_config(self) -> TrainingConfig:\n",
    "        training = self.config.training\n",
    "        prepare_base_model = self.config.prepare_base_model\n",
    "        params = self.params\n",
    "        training_data = os.path.join(self.config.data_ingestion.unzip_dir, \"Chicken-fecal-images\")\n",
    "        create_directories([\n",
    "            Path(training.root_dir)\n",
    "        ])\n",
    "        training_config = TrainingConfig(\n",
    "            root_dir=Path(training.root_dir),\n",
    "            trained_model_path=Path(training.trained_model_path),\n",
    "            updated_base_model_path=Path(prepare_base_model.updated_base_model_path),\n",
    "            training_data=Path(training_data),\n",
    "            params_epochs=params.EPOCHS,\n",
    "            params_batch_size=params.BATCH_SIZE,\n",
    "            params_is_augmentation=params.AUGMENTATION,\n",
    "            params_image_size=params.IMAGE_SIZE\n",
    "        )\n",
    "\n",
    "        return training_config"
   ]
  },
  {
   "cell_type": "code",
   "execution_count": 12,
   "metadata": {},
   "outputs": [],
   "source": [
    "import time"
   ]
  },
  {
   "cell_type": "code",
   "execution_count": 18,
   "metadata": {},
   "outputs": [],
   "source": [
    "class PrepareCallbacks:\n",
    "    def __init__(self,config: PrepareCallbacksConfig):\n",
    "        self.config = config\n",
    "    \n",
    "    @property\n",
    "    def _create_tb_callbacks(self):\n",
    "        timestamp = time.strftime(\"%Y%m%d-%H%M%S\")\n",
    "        tb_running_log_dir = os.path.join(\n",
    "            self.config.tensorboard_root_log_dir,\n",
    "            f\"tb_logs_at_{timestamp}\"\n",
    "        )\n",
    "        return tf.keras.callbacks.TensorBoard(log_dir=tb_running_log_dir)\n",
    "    \n",
    "    @property\n",
    "    def _create_ckpt_callbacks(self):\n",
    "        return tf.keras.callbacks.ModelCheckpoint(\n",
    "            filepath=self.config.checkpoint_model_filepath,\n",
    "            save_weights_only=True,\n",
    "            monitor=\"val_accuracy\",\n",
    "            mode=\"max\",\n",
    "            save_best_only=True,\n",
    "            verbose=1\n",
    "        )\n",
    "    \n",
    "    def get_tb_ckpt_callbacks(self):\n",
    "        return [\n",
    "            self._create_tb_callbacks,\n",
    "            self._create_ckpt_callbacks\n",
    "        ]\n"
   ]
  },
  {
   "cell_type": "code",
   "execution_count": 14,
   "metadata": {},
   "outputs": [],
   "source": [
    "import os\n",
    "import urllib.request as request\n",
    "from zipfile import ZipFile\n",
    "import tensorflow as tf\n",
    "import time"
   ]
  },
  {
   "cell_type": "code",
   "execution_count": 16,
   "metadata": {},
   "outputs": [],
   "source": [
    "class Training:\n",
    "    def __init__(self, config: TrainingConfig):\n",
    "        self.config = config\n",
    "    \n",
    "    def get_base_model(self):\n",
    "        self.model = tf.keras.models.load_model(\n",
    "            self.config.updated_base_model_path\n",
    "        )\n",
    "     \n",
    "    def train_valid_generator(self):\n",
    "\n",
    "        datagenerator_kwargs = dict(\n",
    "            rescale = 1./255,\n",
    "            validation_split=0.20\n",
    "        )\n",
    "\n",
    "        dataflow_kwargs = dict(\n",
    "            target_size=self.config.params_image_size[:-1],\n",
    "            batch_size=self.config.params_batch_size,\n",
    "            interpolation=\"bilinear\"\n",
    "        )\n",
    "\n",
    "        valid_datagenerator = tf.keras.preprocessing.image.ImageDataGenerator(\n",
    "            **datagenerator_kwargs\n",
    "        )\n",
    "\n",
    "        self.valid_generator = valid_datagenerator.flow_from_directory(\n",
    "            directory=self.config.training_data,\n",
    "            subset=\"validation\",\n",
    "            shuffle=False,\n",
    "            **dataflow_kwargs\n",
    "        )\n",
    "\n",
    "        if self.config.params_is_augmentation:\n",
    "            train_datagenerator = tf.keras.preprocessing.image.ImageDataGenerator(\n",
    "                rotation_range=40,\n",
    "                horizontal_flip=True,\n",
    "                width_shift_range=0.2,\n",
    "                height_shift_range=0.2,\n",
    "                shear_range=0.2,\n",
    "                zoom_range=0.2,\n",
    "                **datagenerator_kwargs\n",
    "            )\n",
    "        else:\n",
    "            train_datagenerator = valid_datagenerator\n",
    "\n",
    "        self.train_generator = train_datagenerator.flow_from_directory(\n",
    "            directory=self.config.training_data,\n",
    "            subset=\"training\",\n",
    "            shuffle=True,\n",
    "            **dataflow_kwargs\n",
    "        )\n",
    "\n",
    "    @staticmethod\n",
    "    def save_model(path: Path, model: tf.keras.Model):\n",
    "        model.save(path)\n",
    "\n",
    "\n",
    "    def train(self, callback_list: list):\n",
    "        self.steps_per_epoch = self.train_generator.samples // self.train_generator.batch_size\n",
    "        self.validation_steps = self.valid_generator.samples // self.valid_generator.batch_size\n",
    "\n",
    "        self.model.fit(\n",
    "            self.train_generator,\n",
    "            epochs=self.config.params_epochs,\n",
    "            steps_per_epoch=self.steps_per_epoch,\n",
    "            validation_steps=self.validation_steps,\n",
    "            validation_data=self.valid_generator,\n",
    "            callbacks=callback_list\n",
    "        )\n",
    "\n",
    "        self.save_model(\n",
    "            path=self.config.trained_model_path,\n",
    "            model=self.model\n",
    "        )"
   ]
  },
  {
   "cell_type": "code",
   "execution_count": 20,
   "metadata": {},
   "outputs": [
    {
     "name": "stdout",
     "output_type": "stream",
     "text": [
      "[2025-04-03 13:52:33,398]: INFO:common: yaml file: config/config.yaml loaded successfully\n",
      "[2025-04-03 13:52:33,402]: INFO:common: yaml file: params.yaml loaded successfully\n",
      "[2025-04-03 13:52:33,403]: INFO:common: created directory at: artifacts\n",
      "[2025-04-03 13:52:33,404]: INFO:common: created directory at: artifacts/prepare_callbacks/checkpoint_dir\n",
      "[2025-04-03 13:52:33,405]: INFO:common: created directory at: artifacts/prepare_callbacks/tensorboard_log_dir\n",
      "[2025-04-03 13:52:33,411]: INFO:common: created directory at: artifacts/training\n",
      "Found 78 images belonging to 2 classes.\n",
      "Found 312 images belonging to 2 classes.\n",
      "Epoch 1/10\n",
      "19/19 [==============================] - ETA: 0s - loss: 13.9285 - accuracy: 0.5169\n",
      "Epoch 1: val_accuracy improved from -inf to 0.39062, saving model to artifacts/prepare_callbacks/checkpoint_dir/checkpoint_model.h5\n",
      "19/19 [==============================] - 37s 2s/step - loss: 13.9285 - accuracy: 0.5169 - val_loss: 14.6234 - val_accuracy: 0.3906\n",
      "Epoch 2/10\n",
      "19/19 [==============================] - ETA: 0s - loss: 11.1101 - accuracy: 0.4831\n",
      "Epoch 2: val_accuracy improved from 0.39062 to 0.79688, saving model to artifacts/prepare_callbacks/checkpoint_dir/checkpoint_model.h5\n",
      "19/19 [==============================] - 48s 3s/step - loss: 11.1101 - accuracy: 0.4831 - val_loss: 3.3073 - val_accuracy: 0.7969\n",
      "Epoch 3/10\n",
      "19/19 [==============================] - ETA: 0s - loss: 2.9969 - accuracy: 0.7500\n",
      "Epoch 3: val_accuracy did not improve from 0.79688\n",
      "19/19 [==============================] - 102s 5s/step - loss: 2.9969 - accuracy: 0.7500 - val_loss: 4.1573 - val_accuracy: 0.6875\n",
      "Epoch 4/10\n",
      "19/19 [==============================] - ETA: 0s - loss: 0.9437 - accuracy: 0.9054\n",
      "Epoch 4: val_accuracy improved from 0.79688 to 0.90625, saving model to artifacts/prepare_callbacks/checkpoint_dir/checkpoint_model.h5\n",
      "19/19 [==============================] - 82s 4s/step - loss: 0.9437 - accuracy: 0.9054 - val_loss: 0.9379 - val_accuracy: 0.9062\n",
      "Epoch 5/10\n",
      "19/19 [==============================] - ETA: 0s - loss: 1.8650 - accuracy: 0.8514\n",
      "Epoch 5: val_accuracy did not improve from 0.90625\n",
      "19/19 [==============================] - 81s 4s/step - loss: 1.8650 - accuracy: 0.8514 - val_loss: 1.5758 - val_accuracy: 0.8438\n",
      "Epoch 6/10\n",
      "19/19 [==============================] - ETA: 0s - loss: 1.2269 - accuracy: 0.8682\n",
      "Epoch 6: val_accuracy did not improve from 0.90625\n",
      "19/19 [==============================] - 78s 4s/step - loss: 1.2269 - accuracy: 0.8682 - val_loss: 0.8869 - val_accuracy: 0.9062\n",
      "Epoch 7/10\n",
      "19/19 [==============================] - ETA: 0s - loss: 0.6980 - accuracy: 0.8986\n",
      "Epoch 7: val_accuracy did not improve from 0.90625\n",
      "19/19 [==============================] - 80s 4s/step - loss: 0.6980 - accuracy: 0.8986 - val_loss: 2.6372 - val_accuracy: 0.8125\n",
      "Epoch 8/10\n",
      "19/19 [==============================] - ETA: 0s - loss: 1.2630 - accuracy: 0.8750\n",
      "Epoch 8: val_accuracy improved from 0.90625 to 0.92188, saving model to artifacts/prepare_callbacks/checkpoint_dir/checkpoint_model.h5\n",
      "19/19 [==============================] - 82s 4s/step - loss: 1.2630 - accuracy: 0.8750 - val_loss: 0.8709 - val_accuracy: 0.9219\n",
      "Epoch 9/10\n",
      "19/19 [==============================] - ETA: 0s - loss: 0.8214 - accuracy: 0.9189\n",
      "Epoch 9: val_accuracy did not improve from 0.92188\n",
      "19/19 [==============================] - 80s 4s/step - loss: 0.8214 - accuracy: 0.9189 - val_loss: 0.8252 - val_accuracy: 0.9219\n",
      "Epoch 10/10\n",
      "19/19 [==============================] - ETA: 0s - loss: 0.5621 - accuracy: 0.9122\n",
      "Epoch 10: val_accuracy did not improve from 0.92188\n",
      "19/19 [==============================] - 116s 6s/step - loss: 0.5621 - accuracy: 0.9122 - val_loss: 0.7999 - val_accuracy: 0.9219\n"
     ]
    }
   ],
   "source": [
    "try:\n",
    "    config = ConfigurationManager()\n",
    "    prepare_callbacks_config = config.get_prepare_callback_config()\n",
    "    prepare_callbacks = PrepareCallbacks(config=prepare_callbacks_config)\n",
    "    callback_list = prepare_callbacks.get_tb_ckpt_callbacks()\n",
    "\n",
    "    training_config = config.get_training_config()\n",
    "    training = Training(config=training_config)\n",
    "    training.get_base_model()\n",
    "    training.train_valid_generator()\n",
    "    training.train(\n",
    "        callback_list=callback_list\n",
    "    )\n",
    "    \n",
    "except Exception as e:\n",
    "    raise e"
   ]
  },
  {
   "cell_type": "code",
   "execution_count": null,
   "metadata": {},
   "outputs": [],
   "source": []
  }
 ],
 "metadata": {
  "kernelspec": {
   "display_name": "chicken",
   "language": "python",
   "name": "python3"
  },
  "language_info": {
   "codemirror_mode": {
    "name": "ipython",
    "version": 3
   },
   "file_extension": ".py",
   "mimetype": "text/x-python",
   "name": "python",
   "nbconvert_exporter": "python",
   "pygments_lexer": "ipython3",
   "version": "3.8.20"
  }
 },
 "nbformat": 4,
 "nbformat_minor": 2
}
